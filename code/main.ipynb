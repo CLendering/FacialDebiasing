{
 "cells": [
  {
   "cell_type": "code",
   "execution_count": 1,
   "metadata": {
    "scrolled": false
   },
   "outputs": [
    {
     "name": "stdout",
     "output_type": "stream",
     "text": [
      "2020-01-29 15:01:53,715 - my_logger - ERROR -  ❌ ERROR TEST \n",
      "\n",
      "IN INFO\n",
      "2020-01-29 15:01:53,715 - my_logger - ERROR -  ⚠️ warning TEST \n",
      "\n",
      "2020-01-29 15:01:53,741 - my_logger - ERROR -  ⚠️ It looks like this is run from Jupyter. \n",
      "\n"
     ]
    },
    {
     "name": "stderr",
     "output_type": "stream",
     "text": [
      "usage: ipykernel_launcher.py [-h] [--batch_size BATCH_SIZE] [--epochs EPOCHS]\n",
      "                             [--z_dim Z_DIM] [--alpha ALPHA]\n",
      "                             [--num_bins NUM_BINS] [--max_images MAX_IMAGES]\n",
      "                             [--eval_freq EVAL_FREQ]\n",
      "                             [--debias_type DEBIAS_TYPE]\n",
      "                             [--path_to_model PATH_TO_MODEL]\n",
      "                             [--num_workers NUM_WORKERS]\n",
      "                             [--debug_mode DEBUG_MODE] [--use_h5 USE_H5]\n",
      "                             [--folder_name FOLDER_NAME]\n",
      "                             [--eval_name EVAL_NAME] [--stride STRIDE]\n",
      "                             [--eval_dataset EVAL_DATASET]\n",
      "                             [--save_sub_images SAVE_SUB_IMAGES]\n",
      "                             [--model_name MODEL_NAME] [--hist_size HIST_SIZE]\n",
      "ipykernel_launcher.py: error: unrecognized arguments: -f /run/user/1000/jupyter/kernel-a5098aaa-b9ef-42b4-b88a-8ec8ad0982a2.json\n"
     ]
    }
   ],
   "source": [
    "from setup import Config\n",
    "from main import make_trainer, make_evaluator"
   ]
  },
  {
   "cell_type": "code",
   "execution_count": null,
   "metadata": {},
   "outputs": [],
   "source": [
    "# Make a trainer, train\n",
    "config = Config(use_h5=True, max_images=1000)"
   ]
  },
  {
   "cell_type": "code",
   "execution_count": null,
   "metadata": {},
   "outputs": [],
   "source": [
    "trainer = make_trainer(config)"
   ]
  },
  {
   "cell_type": "code",
   "execution_count": null,
   "metadata": {
    "scrolled": true
   },
   "outputs": [],
   "source": [
    "trainer.train(2)"
   ]
  },
  {
   "cell_type": "code",
   "execution_count": null,
   "metadata": {},
   "outputs": [],
   "source": [
    "evaluator = make_evaluator(config)"
   ]
  },
  {
   "cell_type": "code",
   "execution_count": null,
   "metadata": {},
   "outputs": [],
   "source": [
    "evaluator.eval_on_setups(\"evalll\")"
   ]
  },
  {
   "cell_type": "code",
   "execution_count": null,
   "metadata": {},
   "outputs": [],
   "source": [
    "trainer.sample(10)"
   ]
  },
  {
   "cell_type": "code",
   "execution_count": null,
   "metadata": {},
   "outputs": [],
   "source": [
    "trainer.reconstruction_samples()"
   ]
  },
  {
   "cell_type": "code",
   "execution_count": null,
   "metadata": {
    "scrolled": false
   },
   "outputs": [],
   "source": [
    "trainer.best_and_worst()"
   ]
  },
  {
   "cell_type": "code",
   "execution_count": null,
   "metadata": {},
   "outputs": [],
   "source": []
  }
 ],
 "metadata": {
  "kernelspec": {
   "display_name": "Python [conda env:Msc_AI_FACT]",
   "language": "python",
   "name": "conda-env-Msc_AI_FACT-py"
  },
  "language_info": {
   "codemirror_mode": {
    "name": "ipython",
    "version": 3
   },
   "file_extension": ".py",
   "mimetype": "text/x-python",
   "name": "python",
   "nbconvert_exporter": "python",
   "pygments_lexer": "ipython3",
   "version": "3.7.3"
  }
 },
 "nbformat": 4,
 "nbformat_minor": 2
}
